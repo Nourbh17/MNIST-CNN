{
  "nbformat": 4,
  "nbformat_minor": 0,
  "metadata": {
    "colab": {
      "provenance": [],
      "gpuType": "T4",
      "authorship_tag": "ABX9TyMs9hOXNNv3zF8BGtIOaf6J",
      "include_colab_link": true
    },
    "kernelspec": {
      "name": "python3",
      "display_name": "Python 3"
    },
    "language_info": {
      "name": "python"
    },
    "accelerator": "GPU"
  },
  "cells": [
    {
      "cell_type": "markdown",
      "metadata": {
        "id": "view-in-github",
        "colab_type": "text"
      },
      "source": [
        "<a href=\"https://colab.research.google.com/github/Nourbh17/MNIST-CNN/blob/main/TP3.ipynb\" target=\"_parent\"><img src=\"https://colab.research.google.com/assets/colab-badge.svg\" alt=\"Open In Colab\"/></a>"
      ]
    },
    {
      "cell_type": "code",
      "execution_count": 108,
      "metadata": {
        "id": "XYcbTfIwO7pN"
      },
      "outputs": [],
      "source": [
        "from keras.datasets import mnist\n",
        "import numpy as np\n",
        "from keras.utils import to_categorical\n",
        "from keras import backend as K\n",
        "K.set_image_data_format('channels_first')\n",
        "seed = 7\n",
        "np.random.seed(seed)\n",
        "from keras.models import Sequential\n",
        "from keras.layers import Dense\n",
        "import matplotlib.pyplot as  plt\n",
        "from keras.layers import Conv2D,MaxPooling2D,Flatten,Dense,Dropout\n",
        "\n"
      ]
    },
    {
      "cell_type": "markdown",
      "source": [
        "# Small CNN :\n",
        "\n",
        "---> 2 convolutions + 1 Dense (No special Layer)"
      ],
      "metadata": {
        "id": "smQgB22_SJVn"
      }
    },
    {
      "cell_type": "code",
      "source": [
        "def get_data_mnist() :\n",
        "    #load data\n",
        "    (X_train,y_train),(X_test,y_test)=mnist.load_data()\n",
        "    # reshape to be [samples][pixels][width][height]\n",
        "    X_train=np.reshape(X_train,(-1,28,28,1))\n",
        "    X_test=np.reshape(X_test,(-1,28,28,1))\n",
        "\n",
        "    #one hot encode outputs\n",
        "    y_train = to_categorical(y_train, num_classes=10)\n",
        "    y_test = to_categorical(y_test, num_classes=10)\n",
        "\n",
        "    num_classes = y_test.shape[1]\n",
        "\n",
        "    return X_train, y_train, X_test, y_test, num_classes"
      ],
      "metadata": {
        "id": "zSIU9iaoTqMw"
      },
      "execution_count": 109,
      "outputs": []
    },
    {
      "cell_type": "code",
      "source": [
        "X_train, y_train, X_test, y_test, num_classes = get_data_mnist()"
      ],
      "metadata": {
        "id": "Cj3XHkQkUFLA"
      },
      "execution_count": 110,
      "outputs": []
    },
    {
      "cell_type": "code",
      "source": [
        "print(\"Dimensions de l'ensemble d'apprentissage (X_train) :\", X_train.shape)\n",
        "print(\"Dimensions de l'ensemble de test (X_test) :\", X_test.shape)\n",
        "print(\"Dimensions de la sortie de l'ensemble d'apprentissage (y_train) :\", y_train.shape)\n",
        "print(\"Dimensions de la sortie de l'ensemble de test (y_test) :\", y_test.shape)\n",
        "print(\"nombre de classe est :\", num_classes)"
      ],
      "metadata": {
        "colab": {
          "base_uri": "https://localhost:8080/"
        },
        "id": "TNc5_4aXUsJC",
        "outputId": "1c30eac2-1137-41d6-dc39-d9df7f658927"
      },
      "execution_count": 111,
      "outputs": [
        {
          "output_type": "stream",
          "name": "stdout",
          "text": [
            "Dimensions de l'ensemble d'apprentissage (X_train) : (60000, 28, 28, 1)\n",
            "Dimensions de l'ensemble de test (X_test) : (10000, 28, 28, 1)\n",
            "Dimensions de la sortie de l'ensemble d'apprentissage (y_train) : (60000, 10)\n",
            "Dimensions de la sortie de l'ensemble de test (y_test) : (10000, 10)\n",
            "nombre de classe est : 10\n"
          ]
        }
      ]
    },
    {
      "cell_type": "code",
      "source": [
        "from keras.models import Sequential\n",
        "from keras.layers import Conv2D, Flatten, Dense\n",
        "\n",
        "def small_model():\n",
        "    model = Sequential()\n",
        "    model.add(Conv2D(64, kernel_size=(3, 3), activation='relu', padding='same', input_shape=(28, 28, 1)))\n",
        "    model.add(Conv2D(32, kernel_size=(3, 3), activation='relu', padding='same'))\n",
        "    model.add(Flatten())\n",
        "    model.add(Dense(10, activation='softmax'))\n",
        "\n",
        "    model.compile(optimizer='adam', loss='categorical_crossentropy', metrics=['accuracy'])\n",
        "    return model\n",
        "\n",
        "# Creating the model\n",
        "small_cnn = small_model()"
      ],
      "metadata": {
        "id": "t2rVxuWDjD2P"
      },
      "execution_count": 112,
      "outputs": []
    },
    {
      "cell_type": "code",
      "source": [
        "small_cnn.fit(X_train,y_train,batch_size=100,epochs=5,validation_data=(X_test,y_test))"
      ],
      "metadata": {
        "id": "BgCvnyBFWYIz",
        "colab": {
          "base_uri": "https://localhost:8080/"
        },
        "outputId": "8821241a-7489-424d-8732-a0ccac96cfd8"
      },
      "execution_count": 113,
      "outputs": [
        {
          "output_type": "stream",
          "name": "stdout",
          "text": [
            "Epoch 1/5\n",
            "600/600 [==============================] - 3s 4ms/step - loss: 0.6053 - accuracy: 0.8622 - val_loss: 0.1855 - val_accuracy: 0.9440\n",
            "Epoch 2/5\n",
            "600/600 [==============================] - 2s 4ms/step - loss: 0.1577 - accuracy: 0.9526 - val_loss: 0.1706 - val_accuracy: 0.9503\n",
            "Epoch 3/5\n",
            "600/600 [==============================] - 2s 4ms/step - loss: 0.1151 - accuracy: 0.9658 - val_loss: 0.1254 - val_accuracy: 0.9645\n",
            "Epoch 4/5\n",
            "600/600 [==============================] - 3s 4ms/step - loss: 0.0981 - accuracy: 0.9699 - val_loss: 0.1203 - val_accuracy: 0.9669\n",
            "Epoch 5/5\n",
            "600/600 [==============================] - 2s 4ms/step - loss: 0.0879 - accuracy: 0.9729 - val_loss: 0.1325 - val_accuracy: 0.9652\n"
          ]
        },
        {
          "output_type": "execute_result",
          "data": {
            "text/plain": [
              "<keras.src.callbacks.History at 0x7b6787ad3670>"
            ]
          },
          "metadata": {},
          "execution_count": 113
        }
      ]
    },
    {
      "cell_type": "code",
      "source": [
        "def print_model_error_rate(model, X_test, y_test):\n",
        "  # Final evaluation of the model\n",
        "  scores = model.evaluate(X_test, y_test, verbose=0)\n",
        "  print(\"Model score : %.2f%%\" % (scores[1]*100))\n",
        "  print(\"Model error rate : %.2f%%\" % (100-scores[1]*100))"
      ],
      "metadata": {
        "id": "mIhD8VA2Fltx"
      },
      "execution_count": 114,
      "outputs": []
    },
    {
      "cell_type": "code",
      "source": [
        "print_model_error_rate(small_cnn, X_test, y_test)"
      ],
      "metadata": {
        "colab": {
          "base_uri": "https://localhost:8080/"
        },
        "id": "7ToKI7E3RxNY",
        "outputId": "88d92d4c-3b79-4604-9b30-8cdfd02c7c1c"
      },
      "execution_count": 115,
      "outputs": [
        {
          "output_type": "stream",
          "name": "stdout",
          "text": [
            "Model score : 96.52%\n",
            "Model error rate : 3.48%\n"
          ]
        }
      ]
    },
    {
      "cell_type": "markdown",
      "source": [
        "### Modification de la fonction get_data_mnist() (Ajouter la normalisation)"
      ],
      "metadata": {
        "id": "W-O0CE3WSwHh"
      }
    },
    {
      "cell_type": "code",
      "source": [
        "def get_data_mnist() :\n",
        "    #load data\n",
        "    (X_train,y_train),(X_test,y_test)=mnist.load_data()\n",
        "    # reshape to be [samples][pixels][width][height]\n",
        "    X_train=np.reshape(X_train,(-1,28,28,1))\n",
        "    X_test=np.reshape(X_test,(-1,28,28,1))\n",
        "\n",
        "    #Normalisation\n",
        "    X_train = X_train/255\n",
        "    X_test = X_test/255\n",
        "    #one hot encode outputs\n",
        "    y_train = to_categorical(y_train, num_classes=10)\n",
        "    y_test = to_categorical(y_test, num_classes=10)\n",
        "\n",
        "    num_classes = y_test.shape[1]\n",
        "\n",
        "    return X_train, y_train, X_test, y_test, num_classes"
      ],
      "metadata": {
        "id": "2Z6RtDYtR0lx"
      },
      "execution_count": 116,
      "outputs": []
    },
    {
      "cell_type": "code",
      "source": [
        "small_cnn .fit(X_train,y_train,batch_size=100,epochs=5,validation_data=(X_test,y_test))"
      ],
      "metadata": {
        "colab": {
          "base_uri": "https://localhost:8080/"
        },
        "id": "bMmDSceWUtq-",
        "outputId": "498d8b54-ee4f-404e-c2e2-d920c77a09f9"
      },
      "execution_count": 117,
      "outputs": [
        {
          "output_type": "stream",
          "name": "stdout",
          "text": [
            "Epoch 1/5\n",
            "600/600 [==============================] - 2s 4ms/step - loss: 0.0816 - accuracy: 0.9748 - val_loss: 0.1349 - val_accuracy: 0.9642\n",
            "Epoch 2/5\n",
            "600/600 [==============================] - 2s 3ms/step - loss: 0.0749 - accuracy: 0.9776 - val_loss: 0.1483 - val_accuracy: 0.9623\n",
            "Epoch 3/5\n",
            "600/600 [==============================] - 2s 3ms/step - loss: 0.0691 - accuracy: 0.9790 - val_loss: 0.1304 - val_accuracy: 0.9686\n",
            "Epoch 4/5\n",
            "600/600 [==============================] - 2s 3ms/step - loss: 0.0723 - accuracy: 0.9781 - val_loss: 0.1290 - val_accuracy: 0.9687\n",
            "Epoch 5/5\n",
            "600/600 [==============================] - 2s 3ms/step - loss: 0.0591 - accuracy: 0.9822 - val_loss: 0.1623 - val_accuracy: 0.9664\n"
          ]
        },
        {
          "output_type": "execute_result",
          "data": {
            "text/plain": [
              "<keras.src.callbacks.History at 0x7b6787a80910>"
            ]
          },
          "metadata": {},
          "execution_count": 117
        }
      ]
    },
    {
      "cell_type": "code",
      "source": [
        "print_model_error_rate(small_cnn , X_test, y_test)"
      ],
      "metadata": {
        "colab": {
          "base_uri": "https://localhost:8080/"
        },
        "id": "cMgS7-lRUwbZ",
        "outputId": "50e00b08-d95b-48e7-c052-74aa3bbb7a76"
      },
      "execution_count": 118,
      "outputs": [
        {
          "output_type": "stream",
          "name": "stdout",
          "text": [
            "Model score : 96.64%\n",
            "Model error rate : 3.36%\n"
          ]
        }
      ]
    },
    {
      "cell_type": "markdown",
      "source": [
        "Le taux d'erreur a diminué aprés normalisation des données :\n",
        "\n",
        "Elle est utilisée pour améliorer la convergence et la performance des modèles."
      ],
      "metadata": {
        "id": "OieFzI9uU8Nx"
      }
    },
    {
      "cell_type": "markdown",
      "source": [
        "# medium_CNN :"
      ],
      "metadata": {
        "id": "MgAybwN4VzoG"
      }
    },
    {
      "cell_type": "code",
      "source": [
        "def medium_model():\n",
        "    model = Sequential()\n",
        "    model.add(Conv2D(32, kernel_size=(5, 5), activation='relu', padding='same', input_shape=(28, 28, 1)))\n",
        "    model.add(MaxPooling2D(pool_size=(2, 2), data_format='channels_last'))\n",
        "    model.add(Dropout(0.2))\n",
        "    model.add(Flatten())\n",
        "    model.add(Dense(128, activation='relu'))\n",
        "    model.add(Dense(10, activation='softmax'))\n",
        "    model.compile(optimizer='adam', loss='categorical_crossentropy', metrics=['accuracy'])\n",
        "    return model\n",
        "\n",
        "\n"
      ],
      "metadata": {
        "id": "o9eBN8HhUxj_"
      },
      "execution_count": 119,
      "outputs": []
    },
    {
      "cell_type": "code",
      "source": [
        "medium_cnn  = medium_model()"
      ],
      "metadata": {
        "id": "6cMIFdxOWnW0"
      },
      "execution_count": 120,
      "outputs": []
    },
    {
      "cell_type": "code",
      "source": [
        "medium_cnn.fit(X_train,y_train,batch_size=100,epochs=5,validation_data=(X_test,y_test))"
      ],
      "metadata": {
        "colab": {
          "base_uri": "https://localhost:8080/"
        },
        "id": "hqediBs1Wr5G",
        "outputId": "44e11024-1cde-40d0-af2b-f4a19a966ea6"
      },
      "execution_count": 121,
      "outputs": [
        {
          "output_type": "stream",
          "name": "stdout",
          "text": [
            "Epoch 1/5\n",
            "600/600 [==============================] - 3s 4ms/step - loss: 1.8945 - accuracy: 0.7550 - val_loss: 0.3787 - val_accuracy: 0.8979\n",
            "Epoch 2/5\n",
            "600/600 [==============================] - 2s 4ms/step - loss: 0.4058 - accuracy: 0.8870 - val_loss: 0.2529 - val_accuracy: 0.9276\n",
            "Epoch 3/5\n",
            "600/600 [==============================] - 2s 4ms/step - loss: 0.2992 - accuracy: 0.9144 - val_loss: 0.1850 - val_accuracy: 0.9438\n",
            "Epoch 4/5\n",
            "600/600 [==============================] - 2s 3ms/step - loss: 0.2425 - accuracy: 0.9284 - val_loss: 0.1832 - val_accuracy: 0.9457\n",
            "Epoch 5/5\n",
            "600/600 [==============================] - 3s 5ms/step - loss: 0.2075 - accuracy: 0.9382 - val_loss: 0.1502 - val_accuracy: 0.9541\n"
          ]
        },
        {
          "output_type": "execute_result",
          "data": {
            "text/plain": [
              "<keras.src.callbacks.History at 0x7b677ae3b580>"
            ]
          },
          "metadata": {},
          "execution_count": 121
        }
      ]
    },
    {
      "cell_type": "code",
      "source": [
        "print_model_error_rate(medium_cnn, X_test, y_test)"
      ],
      "metadata": {
        "colab": {
          "base_uri": "https://localhost:8080/"
        },
        "id": "3OEMmuphXfk0",
        "outputId": "0d312649-f145-41a0-8aa9-21c46aff405a"
      },
      "execution_count": 122,
      "outputs": [
        {
          "output_type": "stream",
          "name": "stdout",
          "text": [
            "Model score : 95.41%\n",
            "Model error rate : 4.59%\n"
          ]
        }
      ]
    },
    {
      "cell_type": "markdown",
      "source": [
        "# large_CNN :"
      ],
      "metadata": {
        "id": "xe29hyRbY4XL"
      }
    },
    {
      "cell_type": "code",
      "source": [
        "def large_model():\n",
        "    model = Sequential()\n",
        "    model.add(Conv2D(30, kernel_size=(5, 5), activation='relu', input_shape=(28, 28, 1), padding='same'))\n",
        "    model.add(MaxPooling2D(pool_size=(2, 2),data_format='channels_last'))\n",
        "    model.add(Conv2D(15, kernel_size=(3, 3), activation='relu', padding='same'))\n",
        "    model.add(Dropout(0.2))\n",
        "    model.add(Flatten())\n",
        "    model.add(Dense(128, activation='relu'))\n",
        "    model.add(Dense(50, activation='relu'))\n",
        "    model.add(Dense(10, activation='softmax'))\n",
        "    model.compile(optimizer='adam', loss='categorical_crossentropy', metrics=['accuracy'])\n",
        "    return model\n"
      ],
      "metadata": {
        "id": "oxe7wp37Xh17"
      },
      "execution_count": 123,
      "outputs": []
    },
    {
      "cell_type": "code",
      "source": [
        "large_cnn = large_model()"
      ],
      "metadata": {
        "id": "MEtbIC8QZKDL"
      },
      "execution_count": 124,
      "outputs": []
    },
    {
      "cell_type": "code",
      "source": [
        "large_cnn.fit(X_train,y_train,batch_size=100,epochs=5,validation_data=(X_test,y_test))"
      ],
      "metadata": {
        "colab": {
          "base_uri": "https://localhost:8080/"
        },
        "id": "kHyc3Hg-ZMuF",
        "outputId": "7c89d554-58a0-4d03-c4ac-7128dd58e4de"
      },
      "execution_count": 125,
      "outputs": [
        {
          "output_type": "stream",
          "name": "stdout",
          "text": [
            "Epoch 1/5\n",
            "600/600 [==============================] - 5s 5ms/step - loss: 0.7324 - accuracy: 0.7948 - val_loss: 0.2129 - val_accuracy: 0.9374\n",
            "Epoch 2/5\n",
            "600/600 [==============================] - 2s 4ms/step - loss: 0.2382 - accuracy: 0.9283 - val_loss: 0.1512 - val_accuracy: 0.9547\n",
            "Epoch 3/5\n",
            "600/600 [==============================] - 2s 4ms/step - loss: 0.1763 - accuracy: 0.9466 - val_loss: 0.1223 - val_accuracy: 0.9613\n",
            "Epoch 4/5\n",
            "600/600 [==============================] - 3s 5ms/step - loss: 0.1505 - accuracy: 0.9536 - val_loss: 0.1067 - val_accuracy: 0.9669\n",
            "Epoch 5/5\n",
            "600/600 [==============================] - 3s 6ms/step - loss: 0.1293 - accuracy: 0.9598 - val_loss: 0.0988 - val_accuracy: 0.9695\n"
          ]
        },
        {
          "output_type": "execute_result",
          "data": {
            "text/plain": [
              "<keras.src.callbacks.History at 0x7b677ded76d0>"
            ]
          },
          "metadata": {},
          "execution_count": 125
        }
      ]
    },
    {
      "cell_type": "code",
      "source": [
        "print_model_error_rate(large_cnn, X_test, y_test)"
      ],
      "metadata": {
        "colab": {
          "base_uri": "https://localhost:8080/"
        },
        "id": "xcy17WBVZpmT",
        "outputId": "31abe6a1-5952-49b4-fb9c-7cd4e9998d19"
      },
      "execution_count": 126,
      "outputs": [
        {
          "output_type": "stream",
          "name": "stdout",
          "text": [
            "Model score : 96.95%\n",
            "Model error rate : 3.05%\n"
          ]
        }
      ]
    },
    {
      "cell_type": "markdown",
      "source": [
        "  ---->Le \"meilleur\" modèle dépendra de divers facteurs:\n",
        "\n",
        "    la complexité de la tâche\n",
        "\n",
        "    la taille du jeu de données\n",
        "    \n",
        "    les ressources disponibles pour l'entraînement.\n",
        "  \n",
        "  ---->Pour des tâches simples sur des jeux de données de petite à moyenne taille, le modèle le plus simple (Small Model) peut donner des résultats satisfaisants avec un temps d'entraînement plus court.\n",
        "  \n",
        "  ---->Cependant, pour des tâches plus complexes nécessitant la capture de caractéristiques plus abstraites, le Large Model pourrait être plus adapté malgré un temps d'entraînement plus long et des besoins en ressources plus importants.\n",
        "  \n",
        "  ---->Le Medium Model offre un compromis entre les deux en introduisant des techniques de régularisation tout en conservant une architecture relativement simple.\n",
        "\n",
        "\n",
        "  ---->Dans notre cas avec  MNIST dataset, on a trouvé que le Large Model est le meilleur puisque il a donnée la meilleure précision parmi les trois modèles proposés.\n",
        "\n",
        "\n",
        "\n",
        "\n",
        "\n",
        "\n",
        "\n"
      ],
      "metadata": {
        "id": "Q0iJ4waIaMMb"
      }
    },
    {
      "cell_type": "markdown",
      "source": [
        "# Sauvegarde et chargements des modèles Keras :"
      ],
      "metadata": {
        "id": "KKL1xkHKZ6iD"
      }
    },
    {
      "cell_type": "code",
      "source": [
        "# This function saves a model on the drive using two files: a json and a h5\n",
        "def save_keras_model(model, filename):\n",
        "  # serialize model to JSON\n",
        "  model_json = model.to_json()\n",
        "  with open(filename+\".json\", \"w\") as json_file:\n",
        "    json_file.write(model_json)\n",
        "    # serialize weights to HDF5\n",
        "    model.save_weights(filename+\".h5\")"
      ],
      "metadata": {
        "id": "geuAFS3dZrlU"
      },
      "execution_count": 127,
      "outputs": []
    },
    {
      "cell_type": "code",
      "source": [
        "save_keras_model(small_cnn, 'file')"
      ],
      "metadata": {
        "id": "py3dUPekbCRR"
      },
      "execution_count": 128,
      "outputs": []
    },
    {
      "cell_type": "code",
      "source": [
        "save_keras_model(medium_cnn, 'file2')"
      ],
      "metadata": {
        "id": "JXCryq-mbgAk"
      },
      "execution_count": 129,
      "outputs": []
    },
    {
      "cell_type": "code",
      "source": [
        "save_keras_model(large_cnn, 'file3')"
      ],
      "metadata": {
        "id": "y7D1cI_ubgJH"
      },
      "execution_count": 130,
      "outputs": []
    },
    {
      "cell_type": "code",
      "source": [
        "from keras.models import model_from_json\n",
        "\n",
        "# This function loads a model from two files : a json and a h5\n",
        "# BE CAREFUL : the model NEEDS TO BE COMPILED before any use !\n",
        "def load_keras_model(filename):\n",
        "  # load json and create model\n",
        "  json_file = open(filename+\".json\", 'r')\n",
        "  loaded_model_json = json_file.read()\n",
        "  json_file.close()\n",
        "  loaded_model = model_from_json(loaded_model_json)\n",
        "  # load weights into new model\n",
        "  loaded_model.load_weights(filename+\".h5\")\n",
        "  return loaded_model"
      ],
      "metadata": {
        "id": "VSuWziT2ajzq"
      },
      "execution_count": 131,
      "outputs": []
    },
    {
      "cell_type": "code",
      "source": [
        "load_keras_model('file')"
      ],
      "metadata": {
        "colab": {
          "base_uri": "https://localhost:8080/"
        },
        "id": "T1hJ4Jxhawv5",
        "outputId": "2f192c2f-ab65-40a8-9451-33f6591be0ba"
      },
      "execution_count": 132,
      "outputs": [
        {
          "output_type": "execute_result",
          "data": {
            "text/plain": [
              "<keras.src.engine.sequential.Sequential at 0x7b677dcbe620>"
            ]
          },
          "metadata": {},
          "execution_count": 132
        }
      ]
    },
    {
      "cell_type": "code",
      "source": [
        "load_keras_model('file2')"
      ],
      "metadata": {
        "colab": {
          "base_uri": "https://localhost:8080/"
        },
        "id": "GGGlbU-IbOGX",
        "outputId": "18aad451-c462-49c6-9875-7b863e8df869"
      },
      "execution_count": 133,
      "outputs": [
        {
          "output_type": "execute_result",
          "data": {
            "text/plain": [
              "<keras.src.engine.sequential.Sequential at 0x7b677dca80d0>"
            ]
          },
          "metadata": {},
          "execution_count": 133
        }
      ]
    },
    {
      "cell_type": "code",
      "source": [
        "load_keras_model('file3')"
      ],
      "metadata": {
        "colab": {
          "base_uri": "https://localhost:8080/"
        },
        "id": "L6ohkGn8bpn5",
        "outputId": "a75785ca-b09d-45f3-a7e5-e8bed138b7e0"
      },
      "execution_count": 134,
      "outputs": [
        {
          "output_type": "execute_result",
          "data": {
            "text/plain": [
              "<keras.src.engine.sequential.Sequential at 0x7b677dc2eef0>"
            ]
          },
          "metadata": {},
          "execution_count": 134
        }
      ]
    }
  ]
}